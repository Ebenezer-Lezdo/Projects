{
  "nbformat": 4,
  "nbformat_minor": 0,
  "metadata": {
    "colab": {
      "provenance": [],
      "gpuType": "T4"
    },
    "kernelspec": {
      "name": "python3",
      "display_name": "Python 3"
    },
    "language_info": {
      "name": "python"
    },
    "accelerator": "GPU"
  },
  "cells": [
    {
      "cell_type": "markdown",
      "source": [
        "Entire RAG Pipeline is going to be rely on Langchain Fram-work\n"
      ],
      "metadata": {
        "id": "YQ2Khab-WDef"
      }
    },
    {
      "cell_type": "code",
      "execution_count": null,
      "metadata": {
        "id": "rolnBkQSLiIB"
      },
      "outputs": [],
      "source": [
        "%pip install --quiet --upgrade langchain-text-splitters langchain-community langgraph"
      ]
    },
    {
      "cell_type": "code",
      "source": [
        "%pip install python-dotenv"
      ],
      "metadata": {
        "id": "h370KSWcMz11"
      },
      "execution_count": null,
      "outputs": []
    },
    {
      "cell_type": "code",
      "source": [
        "%pip install -qU \"langchain[groq]\""
      ],
      "metadata": {
        "id": "eoteQ1tkLuUp"
      },
      "execution_count": null,
      "outputs": []
    },
    {
      "cell_type": "code",
      "source": [
        "%pip install -qU langchain-huggingface"
      ],
      "metadata": {
        "id": "s5Ly5f1INlBL"
      },
      "execution_count": 9,
      "outputs": []
    },
    {
      "cell_type": "code",
      "source": [
        "%pip install -qU langchain-community"
      ],
      "metadata": {
        "id": "P-Y6zV2rOVyg"
      },
      "execution_count": 11,
      "outputs": []
    },
    {
      "cell_type": "code",
      "source": [
        "%pip install faiss-cpu"
      ],
      "metadata": {
        "id": "30xHb4BYOiPm"
      },
      "execution_count": null,
      "outputs": []
    },
    {
      "cell_type": "code",
      "source": [
        "# Installing Model Iam Using Groq API\n",
        "\n",
        "import getpass\n",
        "import os\n",
        "from langchain.chat_models import init_chat_model\n",
        "from dotenv import load_dotenv\n",
        "\n",
        "load_dotenv()\n",
        "\n",
        "# GROQ_API_KEY =\n",
        "\n",
        "llm = init_chat_model(\"llama-3.1-8b-instant\", model_provider=\"groq\")"
      ],
      "metadata": {
        "id": "f35BoPBcMKT5"
      },
      "execution_count": 19,
      "outputs": []
    },
    {
      "cell_type": "code",
      "source": [
        "# Installing Embedding Model from Huggingface\n",
        "\n",
        "from langchain_huggingface import HuggingFaceEmbeddings\n",
        "\n",
        "embeddings = HuggingFaceEmbeddings(model_name=\"sentence-transformers/all-mpnet-base-v2\")"
      ],
      "metadata": {
        "id": "I-6bjOVpNf0a"
      },
      "execution_count": null,
      "outputs": []
    },
    {
      "cell_type": "code",
      "source": [
        "import faiss\n",
        "from langchain_community.docstore.in_memory import InMemoryDocstore\n",
        "from langchain_community.vectorstores import FAISS\n",
        "\n",
        "embedding_dim = len(embeddings.embed_query(\"hello world\"))\n",
        "index = faiss.IndexFlatL2(embedding_dim)\n",
        "\n",
        "vector_store = FAISS(\n",
        "    embedding_function=embeddings,\n",
        "    index=index,\n",
        "    docstore=InMemoryDocstore(),\n",
        "    index_to_docstore_id={},\n",
        ")"
      ],
      "metadata": {
        "id": "VRSexuAIOSK3"
      },
      "execution_count": 15,
      "outputs": []
    },
    {
      "cell_type": "code",
      "source": [
        "long_ai_text = \"\"\"\n",
        "Artificial Intelligence: A Transformative Force in the 21st Century\n",
        "\n",
        "Artificial Intelligence (AI) has emerged as one of the most transformative technologies of our time. It refers to the development of computer systems capable of performing tasks that typically require human intelligence, such as understanding natural language, recognizing patterns, solving problems, and making decisions. From virtual assistants to self-driving cars, AI is reshaping industries, economies, and societies on a global scale. As with any powerful technology, it presents both immense opportunities and significant challenges.\n",
        "\n",
        "The Origins of AI\n",
        "\n",
        "The concept of AI dates back to the mid-20th century. In 1956, at the Dartmouth Conference, computer scientists formally introduced the term “artificial intelligence.” Early research focused on symbolic AI, where machines were programmed with explicit rules and logical reasoning processes. Although these systems showed promise, they struggled with complex real-world problems. The field experienced cycles of optimism and stagnation, sometimes referred to as “AI winters,” when progress slowed due to limited computational power and unrealistic expectations.\n",
        "\n",
        "The Rise of Machine Learning\n",
        "\n",
        "The resurgence of AI in recent decades can be largely attributed to machine learning. Unlike traditional rule-based systems, machine learning allows algorithms to learn patterns from data. With the explosion of digital information and advances in computational power, machine learning models have become increasingly sophisticated. Techniques such as supervised learning, unsupervised learning, and reinforcement learning have expanded the range of AI applications. Neural networks, inspired by the human brain, play a particularly important role, especially when layered deeply in architectures known as deep learning.\n",
        "\n",
        "Applications Across Industries\n",
        "\n",
        "AI is no longer confined to research laboratories; it has penetrated almost every sector of modern life.\n",
        "\n",
        "Healthcare\n",
        "AI systems assist doctors in diagnosing diseases by analyzing medical images, predicting patient outcomes, and recommending treatments. Drug discovery processes are accelerated through AI-driven simulations, reducing costs and time. Personalized medicine, where treatment plans are tailored to an individual’s genetic profile, is becoming more feasible due to AI advancements.\n",
        "\n",
        "Transportation\n",
        "Self-driving cars rely on AI to interpret data from sensors and cameras, enabling navigation and decision-making in complex environments. While fully autonomous vehicles are still under development, AI already supports advanced driver-assistance systems (ADAS), improving road safety.\n",
        "\n",
        "Finance\n",
        "Banks and financial institutions use AI for fraud detection, risk management, and algorithmic trading. AI-powered chatbots provide customer service, and robo-advisors help individuals manage investments. The ability of AI to process vast amounts of financial data quickly enhances decision-making in this highly dynamic sector.\n",
        "\n",
        "Retail\n",
        "Online platforms use AI to recommend products based on user preferences and browsing history. Inventory management and demand forecasting benefit from AI-driven analytics. In physical stores, computer vision systems track customer behavior to improve layout and marketing strategies.\n",
        "\n",
        "Education\n",
        "Intelligent tutoring systems adapt learning experiences to each student’s pace and needs. AI can automate grading, freeing educators to focus on teaching. Language learning apps employ AI to provide instant feedback and personalized exercises.\n",
        "\n",
        "Entertainment\n",
        "Streaming services rely on AI recommendation engines to suggest movies, music, or shows. Video game developers integrate AI to create adaptive, responsive non-player characters (NPCs), enhancing gameplay realism.\n",
        "\n",
        "Benefits of AI\n",
        "\n",
        "The benefits of AI are multifaceted:\n",
        "\n",
        "Efficiency: AI automates repetitive tasks, freeing human workers to focus on more creative and strategic activities.\n",
        "\n",
        "Accuracy: In fields such as medical diagnostics and financial forecasting, AI often outperforms humans in detecting subtle patterns.\n",
        "\n",
        "Scalability: AI systems can handle enormous volumes of data that would overwhelm human analysts.\n",
        "\n",
        "Innovation: By enabling new products and services, AI drives economic growth and improves quality of life.\n",
        "\n",
        "Ethical and Social Challenges\n",
        "\n",
        "Despite its advantages, AI raises important ethical and social concerns.\n",
        "\n",
        "Job Displacement\n",
        "Automation threatens to replace certain types of jobs, particularly those involving routine tasks. While AI also creates new roles, there is uncertainty about whether displaced workers will transition smoothly into these opportunities.\n",
        "\n",
        "Bias and Fairness\n",
        "AI systems learn from data, and if that data reflects societal biases, the AI may perpetuate or even amplify them. For example, biased hiring algorithms can discriminate against minority candidates. Ensuring fairness in AI requires diverse datasets and rigorous oversight.\n",
        "\n",
        "Privacy\n",
        "AI often relies on large datasets, many of which include sensitive personal information. Striking a balance between data-driven innovation and individual privacy is an ongoing challenge.\n",
        "\n",
        "Security Risks\n",
        "AI can be misused for malicious purposes, such as generating deepfakes, conducting cyberattacks, or creating autonomous weapons. Policymakers and technologists must work together to mitigate these risks.\n",
        "\n",
        "Accountability\n",
        "When AI systems make decisions, it is often difficult to trace the reasoning behind them—a phenomenon known as the “black box” problem. This raises questions of accountability, particularly in high-stakes contexts like healthcare or criminal justice.\n",
        "\n",
        "The Future of AI\n",
        "\n",
        "Looking ahead, AI is expected to become even more deeply integrated into daily life. Advances in natural language processing will make human-computer interaction more seamless, while improvements in computer vision will expand AI’s ability to interpret the physical world. Multimodal AI systems, which combine text, images, and audio, promise more versatile and powerful capabilities.\n",
        "\n",
        "One area of growing interest is Artificial General Intelligence (AGI)—a theoretical form of AI capable of performing any intellectual task that a human can do. While current AI systems are specialized (narrow AI), AGI would represent a leap toward machines with human-like reasoning abilities. Experts debate whether AGI is achievable and, if so, what its societal impact would be.\n",
        "\n",
        "Collaboration Between Humans and AI\n",
        "\n",
        "Rather than replacing humans, AI is most powerful when used in collaboration with people. The concept of “augmented intelligence” emphasizes AI as a tool that enhances human decision-making rather than eliminating the need for it. For instance, in healthcare, AI can suggest treatment options, but doctors provide the final judgment, taking into account ethical and emotional factors that machines cannot replicate.\n",
        "\n",
        "Governance and Regulation\n",
        "\n",
        "Effective governance is essential to harness the benefits of AI while minimizing risks. Governments, businesses, and academic institutions must collaborate on developing ethical guidelines and regulatory frameworks. International cooperation is particularly important given the global nature of AI technologies. Transparency, accountability, and inclusivity should form the foundation of AI governance.\n",
        "\n",
        "Conclusion\n",
        "\n",
        "Artificial Intelligence is not just a technological revolution; it is a societal transformation. Its ability to process data, recognize patterns, and make decisions opens up new frontiers in science, industry, and everyday life. At the same time, it poses profound ethical and social questions that require careful consideration. The challenge of the 21st century is to ensure that AI develops in ways that benefit all of humanity, balancing innovation with responsibility. With thoughtful governance and a commitment to fairness, AI can serve as a powerful ally in building a more prosperous and equitable future.\n",
        "\n",
        "\"\"\""
      ],
      "metadata": {
        "id": "mo3Azbw7TF9K"
      },
      "execution_count": 30,
      "outputs": []
    },
    {
      "cell_type": "code",
      "source": [
        "from langchain_text_splitters import RecursiveCharacterTextSplitter\n",
        "from langchain.schema import Document\n",
        "\n",
        "docs = [\n",
        "    Document(\n",
        "        page_content=long_ai_text,\n",
        "        metadata={\"source\": \"ai_article\"}\n",
        "    )\n",
        "]\n",
        "text_splitter = RecursiveCharacterTextSplitter(\n",
        "    chunk_size=1000,\n",
        "    chunk_overlap=200,\n",
        "    add_start_index=True,\n",
        ")\n",
        "all_splits = text_splitter.split_documents(docs)"
      ],
      "metadata": {
        "id": "Y8k_WxtYS3iS"
      },
      "execution_count": 32,
      "outputs": []
    },
    {
      "cell_type": "code",
      "source": [
        "print(f\"Split blog post into {len(all_splits)} sub-documents.\")\n",
        "print(all_splits[0])"
      ],
      "metadata": {
        "colab": {
          "base_uri": "https://localhost:8080/"
        },
        "id": "UDcS3IZXUTtS",
        "outputId": "5a0013ec-c0e8-46f0-be40-00af71861f49"
      },
      "execution_count": 34,
      "outputs": [
        {
          "output_type": "stream",
          "name": "stdout",
          "text": [
            "Split blog post into 11 sub-documents.\n",
            "page_content='Artificial Intelligence: A Transformative Force in the 21st Century\n",
            "\n",
            "Artificial Intelligence (AI) has emerged as one of the most transformative technologies of our time. It refers to the development of computer systems capable of performing tasks that typically require human intelligence, such as understanding natural language, recognizing patterns, solving problems, and making decisions. From virtual assistants to self-driving cars, AI is reshaping industries, economies, and societies on a global scale. As with any powerful technology, it presents both immense opportunities and significant challenges.\n",
            "\n",
            "The Origins of AI' metadata={'source': 'ai_article', 'start_index': 1}\n"
          ]
        }
      ]
    },
    {
      "cell_type": "code",
      "source": [
        "document_ids = vector_store.add_documents(documents=all_splits)\n",
        "print(document_ids[:3])"
      ],
      "metadata": {
        "colab": {
          "base_uri": "https://localhost:8080/"
        },
        "id": "cnNGgz8KUmiC",
        "outputId": "a37bd87d-fa8a-43cf-80c9-a0bcc137a437"
      },
      "execution_count": 35,
      "outputs": [
        {
          "output_type": "stream",
          "name": "stdout",
          "text": [
            "['7321f515-0809-4ff2-80dc-6508ab9a943d', 'a92fc60f-d17c-4b2f-918f-e6171d8dbfe7', '4d96a3ad-47fe-4e53-b819-8d4f015e73dd']\n"
          ]
        }
      ]
    },
    {
      "cell_type": "markdown",
      "source": [
        "Retrieval"
      ],
      "metadata": {
        "id": "cBirSNs1WWSS"
      }
    },
    {
      "cell_type": "code",
      "source": [
        "from langchain import hub\n",
        "\n",
        "#RAG Prompt - Built by Langchain\n",
        "prompt = hub.pull(\"rlm/rag-prompt\")\n",
        "\n",
        "example_messages = prompt.invoke(\n",
        "    {\"context\": \"(context goes here)\", \"question\": \"(question goes here)\"}\n",
        ").to_messages()\n",
        "\n",
        "assert len(example_messages) == 1\n",
        "print(example_messages[0].content)"
      ],
      "metadata": {
        "colab": {
          "base_uri": "https://localhost:8080/"
        },
        "id": "9w6JfOG4Vnnh",
        "outputId": "e8e5a071-f940-4e25-b4ac-dca121112f9b"
      },
      "execution_count": 38,
      "outputs": [
        {
          "output_type": "stream",
          "name": "stdout",
          "text": [
            "You are an assistant for question-answering tasks. Use the following pieces of retrieved context to answer the question. If you don't know the answer, just say that you don't know. Use three sentences maximum and keep the answer concise.\n",
            "Question: (question goes here) \n",
            "Context: (context goes here) \n",
            "Answer:\n"
          ]
        }
      ]
    },
    {
      "cell_type": "code",
      "source": [
        "# Retrieval code\n",
        "\n",
        "from langchain import hub\n",
        "\n",
        "# 1. Load RAG prompt from LangChain hub\n",
        "prompt = hub.pull(\"rlm/rag-prompt\")\n",
        "\n",
        "# 2. Wrap FAISS into a retriever\n",
        "retriever = vector_store.as_retriever(\n",
        "    search_kwargs={\"k\": 3}  # number of chunks to fetch\n",
        ")\n",
        "\n",
        "# 3. Example query\n",
        "query = \"What is the orgin year of AI?\"\n",
        "\n",
        "# 4. Retrieve relevant docs\n",
        "retrieved_docs = retriever.get_relevant_documents(query)\n",
        "\n",
        "# Concatenate retrieved content into a single context string\n",
        "context = \"\\n\\n\".join([doc.page_content for doc in retrieved_docs])\n",
        "\n",
        "# 5. Format the RAG prompt with context + question\n",
        "final_prompt = prompt.invoke({\n",
        "    \"context\": context,\n",
        "    \"question\": query\n",
        "})\n",
        "\n",
        "# 6. Send to LLM\n",
        "response = llm.invoke(final_prompt.to_messages())\n",
        "\n",
        "# 7. Show output\n",
        "print(\"QUESTION:\", query)\n",
        "print(\"----\")\n",
        "print(\"ANSWER:\", response.content)\n"
      ],
      "metadata": {
        "colab": {
          "base_uri": "https://localhost:8080/"
        },
        "id": "Lq-hrRJ9WkCN",
        "outputId": "07363697-3946-407a-9717-4b570590a5ba"
      },
      "execution_count": 44,
      "outputs": [
        {
          "output_type": "stream",
          "name": "stdout",
          "text": [
            "QUESTION: What is the orgin year of AI?\n",
            "----\n",
            "ANSWER: The origin year of AI is 1956, when computer scientists formally introduced the term \"artificial intelligence\" at the Dartmouth Conference. This marked the beginning of AI research, focusing on symbolic AI with explicit rules and logical reasoning processes. However, progress was initially slow due to limited computational power and unrealistic expectations.\n"
          ]
        }
      ]
    }
  ]
}